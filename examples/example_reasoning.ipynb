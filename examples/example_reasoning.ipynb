{
 "cells": [
  {
   "cell_type": "markdown",
   "metadata": {},
   "source": [
    "# Пример использования reasoning"
   ]
  },
  {
   "cell_type": "code",
   "execution_count": null,
   "metadata": {},
   "outputs": [],
   "source": [
    "from gigachat import GigaChat\n",
    "\n",
    "giga = GigaChat(\n",
    "    credentials=\"...\",\n",
    "    model=\"GigaChat-2-Reasoning\",\n",
    "    profanity_check=False,\n",
    "    verify_ssl_certs=False,\n",
    ")"
   ]
  },
  {
   "cell_type": "markdown",
   "metadata": {},
   "source": [
    "Следует убедиться, что reasoning модель доступна пользователю"
   ]
  },
  {
   "cell_type": "code",
   "execution_count": 13,
   "metadata": {},
   "outputs": [
    {
     "data": {
      "text/plain": [
       "[Model(x_headers=None, id_='DeepSeek-R1', object_='model', owned_by='salutedevices'),\n",
       " Model(x_headers=None, id_='GigaChat', object_='model', owned_by='salutedevices'),\n",
       " Model(x_headers=None, id_='GigaChat-2', object_='model', owned_by='salutedevices'),\n",
       " Model(x_headers=None, id_='GigaChat-2-Max', object_='model', owned_by='salutedevices'),\n",
       " Model(x_headers=None, id_='GigaChat-2-Pro', object_='model', owned_by='salutedevices'),\n",
       " Model(x_headers=None, id_='GigaChat-2-Reasoning', object_='model', owned_by='salutedevices'),\n",
       " Model(x_headers=None, id_='GigaChat-Max', object_='model', owned_by='salutedevices'),\n",
       " Model(x_headers=None, id_='GigaChat-Pro', object_='model', owned_by='salutedevices'),\n",
       " Model(x_headers=None, id_='Embeddings', object_='model', owned_by='salutedevices'),\n",
       " Model(x_headers=None, id_='Embeddings-2', object_='model', owned_by='salutedevices'),\n",
       " Model(x_headers=None, id_='EmbeddingsGigaR', object_='model', owned_by='salutedevices')]"
      ]
     },
     "execution_count": 13,
     "metadata": {},
     "output_type": "execute_result"
    }
   ],
   "source": [
    "giga.get_models().data"
   ]
  },
  {
   "cell_type": "markdown",
   "metadata": {},
   "source": [
    "### Вызываем GigaChat с рассуждениями\n",
    "reasoning_effort - глубина рассуждений (low, medium, high)"
   ]
  },
  {
   "cell_type": "code",
   "execution_count": 41,
   "metadata": {},
   "outputs": [],
   "source": [
    "from gigachat.client import Chat, Messages, MessagesRole\n",
    "\n",
    "chat = Chat(\n",
    "    messages=[\n",
    "        Messages(\n",
    "            role=MessagesRole.USER,\n",
    "            content=\"Как положить две монеты в три кошелька так, чтобы в каждом кошельке было одинаковое количество монет? Ответь коротко.\",\n",
    "        )\n",
    "    ],\n",
    "    reasoning_effort=\"high\",\n",
    ")\n",
    "resp = giga.chat(chat)"
   ]
  },
  {
   "cell_type": "markdown",
   "metadata": {},
   "source": [
    "### Рассуждение модели:"
   ]
  },
  {
   "cell_type": "code",
   "execution_count": 46,
   "metadata": {},
   "outputs": [
    {
     "name": "stdout",
     "output_type": "stream",
     "text": [
      "Так, мне дали головоломку про два кошелька и три монетки. Нужно разложить деньги таким образом, чтобы в каждом кошельке оказалось равное число монеток.\n",
      "\n",
      "Получается, всего три кошелька и две монеты. Значит, если разделить поровну, выходит по две трети монеты на каждый кошелек. Но ведь монеты нельзя разрезать пополам или еще как-то делить физически. Как же тогда поступить?\n",
      "\n",
      "Может попробовать нестандартный подход? Например, вложить один кошелек внутрь другого. Тогда получится считать этот двойной кошелек одним целым местом хранения. Получается, кладу одну монетку в первый пустой кошелек, потом второй кошелек вместе с этой монеткой помещаю внутрь третьего пустого кошелька. Теперь третий кошелек фактически содержит оба предыдущих кошелька и обе мои монетки одновременно.\n",
      "\n",
      "Итого получается следующее распределение: первый кошелек отдельно лежит с одной монеткой, второй тоже отдельно лежит с другой монеткой, ну а третий включает оба первых кошелька и соответственно обе монеты сразу. Таким образом, формально каждый кошелек теперь содержит ровно две монеты, хотя одна из них находится внутри другого кошелька.\n",
      "\n",
      "Вот такой хитрый способ позволяет обойти условие задачи и получить нужное равенство количества монет между всеми тремя кошельками.\n"
     ]
    }
   ],
   "source": [
    "print(resp.choices[0].message.reasoning_content)"
   ]
  },
  {
   "cell_type": "markdown",
   "metadata": {},
   "source": [
    "### Ответ модели:"
   ]
  },
  {
   "cell_type": "code",
   "execution_count": 47,
   "metadata": {},
   "outputs": [
    {
     "name": "stdout",
     "output_type": "stream",
     "text": [
      "Положите первую монету в первый кошелёк, вторую монету положите во второй кошелёк, а затем поместите второй кошелёк внутрь третьего. Так в каждом из трёх кошельков окажется по две монеты.\n"
     ]
    }
   ],
   "source": [
    "print(resp.choices[0].message.content)"
   ]
  }
 ],
 "metadata": {
  "kernelspec": {
   "display_name": "venv (3.13.2)",
   "language": "python",
   "name": "python3"
  },
  "language_info": {
   "codemirror_mode": {
    "name": "ipython",
    "version": 3
   },
   "file_extension": ".py",
   "mimetype": "text/x-python",
   "name": "python",
   "nbconvert_exporter": "python",
   "pygments_lexer": "ipython3",
   "version": "3.13.2"
  }
 },
 "nbformat": 4,
 "nbformat_minor": 2
}
