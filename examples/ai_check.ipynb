{
 "cells": [
  {
   "metadata": {},
   "cell_type": "markdown",
   "source": "# Проверка написан ли текст ИИ",
   "id": "ce3ce21d4dde482a"
  },
  {
   "metadata": {
    "ExecuteTime": {
     "end_time": "2025-03-30T20:30:23.550263Z",
     "start_time": "2025-03-30T20:30:21.095710Z"
    }
   },
   "cell_type": "code",
   "source": [
    "import getpass\n",
    "import os\n",
    "\n",
    "if \"GIGACHAT_CREDENTIALS\" not in os.environ:\n",
    "    os.environ[\"GIGACHAT_CREDENTIALS\"] = getpass.getpass(\"Credentials от GigaChat\")"
   ],
   "id": "7e9f2b85999c203",
   "outputs": [],
   "execution_count": 1
  },
  {
   "cell_type": "code",
   "id": "initial_id",
   "metadata": {
    "collapsed": true,
    "ExecuteTime": {
     "end_time": "2025-03-30T20:30:44.047339Z",
     "start_time": "2025-03-30T20:30:44.044387Z"
    }
   },
   "source": [
    "from gigachat import GigaChat\n",
    "\n",
    "client = GigaChat(\n",
    "    scope=\"GIGACHAT_API_CORP\",\n",
    "    verify_ssl_certs=False\n",
    ")"
   ],
   "outputs": [],
   "execution_count": 3
  },
  {
   "metadata": {
    "ExecuteTime": {
     "end_time": "2025-03-30T20:31:15.829824Z",
     "start_time": "2025-03-30T20:31:12.929914Z"
    }
   },
   "cell_type": "code",
   "source": [
    "text = \"\"\"Котики — это милые и пушистые домашние животные, которые относятся к семейству кошачьих. \n",
    "Они известны своим дружелюбным характером, игривостью и мягкой шерстью. \n",
    "Котики могут быть разных пород, каждая из которых имеет свои уникальные особенности. \n",
    "А этот текст писала точно не нейросеть, \n",
    "потому что это пишу я. У меня особо нечего сказать про котов,\n",
    "кроме того, что они мягкие и пушистые, мурчащие существа.\n",
    "Эти животные стали популярными благодаря своей способности поднимать настроение людям \n",
    "и создавать уютную атмосферу в доме.\"\"\"\n",
    "ai_result = client.check_ai(text, \"GigaCheckDetection\")\n",
    "ai_result"
   ],
   "id": "d1413eece5acabe0",
   "outputs": [
    {
     "data": {
      "text/plain": [
       "AICheckResult(category='mixed', characters=533, tokens=224, ai_intervals=[[1, 262], [415, 533]])"
      ]
     },
     "execution_count": 4,
     "metadata": {},
     "output_type": "execute_result"
    }
   ],
   "execution_count": 4
  },
  {
   "metadata": {
    "ExecuteTime": {
     "end_time": "2025-03-30T20:32:53.737719Z",
     "start_time": "2025-03-30T20:32:53.733482Z"
    }
   },
   "cell_type": "code",
   "source": [
    "from IPython.display import display, HTML\n",
    "\n",
    "def ai_intervals_to_html(text, ai_intervals):\n",
    "    \"\"\"\n",
    "    Функция получает строку `text` и список интервалов в виде [(start, end), ...],\n",
    "    где части текста, попадающие в интервалы, будут выделены красным цветом, а остальные – чёрным.\n",
    "    Если список интервалов пустой, возвращается исходный текст.\n",
    "    \"\"\"\n",
    "    # Если интервалов нет, просто возвращаем текст, обернутый в span с чёрным цветом.\n",
    "    if not ai_intervals:\n",
    "        return f\"<span style='color: black'>{text}</span>\"\n",
    "    \n",
    "    output = \"\"\n",
    "    # Если до первого интервала есть текст, добавляем его чёрным цветом.\n",
    "    if ai_intervals[0][0] > 0:\n",
    "        output += f\"<span style='color: black'>{text[:ai_intervals[0][0]]}</span>\"\n",
    "        \n",
    "    for i, (start, end) in enumerate(ai_intervals):\n",
    "        # Если между интервалами есть промежуток > 1 символа, добавляем его чёрным цветом.\n",
    "        if i > 0 and (start - ai_intervals[i-1][1] > 1):\n",
    "            output += f\"<span style='color: black'>{text[ai_intervals[i-1][1]:start]}</span>\"\n",
    "        # Добавляем выделенный красным цветом фрагмент.\n",
    "        output += f\"<span style='color: red'>{text[start:end]}</span>\"\n",
    "    \n",
    "    # Если после последнего интервала остаётся текст, добавляем его чёрным цветом.\n",
    "    if ai_intervals[-1][1] < len(text):\n",
    "        output += f\"<span style='color: black'>{text[ai_intervals[-1][1]:]}</span>\"\n",
    "    \n",
    "    return output.replace(\"\\n\", \"<br/>\")\n",
    "\n",
    "html = ai_intervals_to_html(text, ai_result.ai_intervals)\n",
    "display(HTML(f\"<div style='background:white'>{html}</div>\"))\n"
   ],
   "id": "92cc36f62ee740e0",
   "outputs": [
    {
     "data": {
      "text/plain": [
       "<IPython.core.display.HTML object>"
      ],
      "text/html": [
       "<div style='background:white'><span style='color: black'>К</span><span style='color: red'>отики — это милые и пушистые домашние животные, которые относятся к семейству кошачьих. <br/>Они известны своим дружелюбным характером, игривостью и мягкой шерстью. <br/>Котики могут быть разных пород, каждая из которых имеет свои уникальные особенности. <br/>А этот текст </span><span style='color: black'>писала точно не нейросеть, <br/>потому что это пишу я. У меня особо нечего сказать про котов,<br/>кроме того, что они мягкие и пушистые, мурчащие существа.<br/>Эти ж</span><span style='color: red'>ивотные стали популярными благодаря своей способности поднимать настроение людям <br/>и создавать уютную атмосферу в доме.</span></div>"
      ]
     },
     "metadata": {},
     "output_type": "display_data"
    }
   ],
   "execution_count": 7
  }
 ],
 "metadata": {
  "kernelspec": {
   "display_name": "Python 3",
   "language": "python",
   "name": "python3"
  },
  "language_info": {
   "codemirror_mode": {
    "name": "ipython",
    "version": 2
   },
   "file_extension": ".py",
   "mimetype": "text/x-python",
   "name": "python",
   "nbconvert_exporter": "python",
   "pygments_lexer": "ipython2",
   "version": "2.7.6"
  }
 },
 "nbformat": 4,
 "nbformat_minor": 5
}
